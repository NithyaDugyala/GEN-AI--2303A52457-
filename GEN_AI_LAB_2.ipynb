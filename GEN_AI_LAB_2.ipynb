{
  "nbformat": 4,
  "nbformat_minor": 0,
  "metadata": {
    "colab": {
      "provenance": [],
      "authorship_tag": "ABX9TyMGMfR5GTBOL2QDLI+TQCqM",
      "include_colab_link": true
    },
    "kernelspec": {
      "name": "python3",
      "display_name": "Python 3"
    },
    "language_info": {
      "name": "python"
    }
  },
  "cells": [
    {
      "cell_type": "markdown",
      "metadata": {
        "id": "view-in-github",
        "colab_type": "text"
      },
      "source": [
        "<a href=\"https://colab.research.google.com/github/NithyaDugyala/GEN-AI--2303A52457-/blob/main/GEN_AI_LAB_2.ipynb\" target=\"_parent\"><img src=\"https://colab.research.google.com/assets/colab-badge.svg\" alt=\"Open In Colab\"/></a>"
      ]
    },
    {
      "cell_type": "code",
      "execution_count": 1,
      "metadata": {
        "colab": {
          "base_uri": "https://localhost:8080/"
        },
        "id": "lyJougT_tqT3",
        "outputId": "99de59db-368e-4eea-9f67-b2c2bf4be05d"
      },
      "outputs": [
        {
          "output_type": "stream",
          "name": "stdout",
          "text": [
            "Optimal solution: x = 2.00, y = 3.00\n",
            "Maximum profit: Rs 27.00\n"
          ]
        }
      ],
      "source": [
        "from scipy.optimize import linprog\n",
        "\n",
        "c = [-6, -5]\n",
        "\n",
        "A = [\n",
        "    [1, 1],\n",
        "    [3, 2]\n",
        "]\n",
        "b = [5, 12]\n",
        "\n",
        "x_bounds = (0, None)\n",
        "y_bounds = (0, None)\n",
        "\n",
        "result = linprog(c, A_ub=A, b_ub=b, bounds=[x_bounds, y_bounds], method='highs')\n",
        "\n",
        "if result.success:\n",
        "    print(f\"Optimal solution: x = {result.x[0]:.2f}, y = {result.x[1]:.2f}\")\n",
        "    print(f\"Maximum profit: Rs {-result.fun:.2f}\")\n",
        "else:\n",
        "    print(\"No optimal solution found.\")"
      ]
    },
    {
      "cell_type": "code",
      "source": [
        "from scipy.optimize import linprog\n",
        "\n",
        "c = [-50, -120]\n",
        "\n",
        "A = [\n",
        "    [1, 1],\n",
        "    [7000, 2000],\n",
        "    [10, 30]\n",
        "]\n",
        "b = [110, 700000, 1200]\n",
        "\n",
        "x_bounds = (0, None)\n",
        "y_bounds = (0, None)\n",
        "\n",
        "result = linprog(c, A_ub=A, b_ub=b, bounds=[x_bounds, y_bounds], method='highs')\n",
        "\n",
        "if result.success:\n",
        "    print(f\"Optimal solution: Wheat = {result.x[0]:.2f} hectares, Barley = {result.x[1]:.2f} hectares\")\n",
        "    print(f\"Maximum profit: Rs {-result.fun:.2f}\")\n",
        "else:\n",
        "    print(\"No optimal solution found.\")"
      ],
      "metadata": {
        "colab": {
          "base_uri": "https://localhost:8080/"
        },
        "id": "Ykal-mGwuJ8q",
        "outputId": "f0f521ec-c6cf-4c77-d164-a650d632ee27"
      },
      "execution_count": 2,
      "outputs": [
        {
          "output_type": "stream",
          "name": "stdout",
          "text": [
            "Optimal solution: Wheat = 97.89 hectares, Barley = 7.37 hectares\n",
            "Maximum profit: Rs 5778.95\n"
          ]
        }
      ]
    }
  ]
}