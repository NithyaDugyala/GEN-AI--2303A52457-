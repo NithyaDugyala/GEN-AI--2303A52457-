{
  "nbformat": 4,
  "nbformat_minor": 0,
  "metadata": {
    "colab": {
      "provenance": [],
      "authorship_tag": "ABX9TyN7UE/NeZ2sLasl0viKhIJn",
      "include_colab_link": true
    },
    "kernelspec": {
      "name": "python3",
      "display_name": "Python 3"
    },
    "language_info": {
      "name": "python"
    }
  },
  "cells": [
    {
      "cell_type": "markdown",
      "metadata": {
        "id": "view-in-github",
        "colab_type": "text"
      },
      "source": [
        "<a href=\"https://colab.research.google.com/github/NithyaDugyala/GEN-AI--2303A52457-/blob/main/Gen_AI_LAB_3.ipynb\" target=\"_parent\"><img src=\"https://colab.research.google.com/assets/colab-badge.svg\" alt=\"Open In Colab\"/></a>"
      ]
    },
    {
      "cell_type": "code",
      "execution_count": null,
      "metadata": {
        "colab": {
          "base_uri": "https://localhost:8080/"
        },
        "id": "5HhjkF7OCwLn",
        "outputId": "d43378d2-d812-40ae-b4c0-8c88e9b1e5a9"
      },
      "outputs": [
        {
          "output_type": "stream",
          "name": "stdout",
          "text": [
            "Minimum value of f(x) is approximately at x = 0.0\n",
            "Minimum value of f(x) is approximately 10.0\n",
            "Number of iterations: 1\n"
          ]
        }
      ],
      "source": [
        "# Function f(x)\n",
        "def f(x):\n",
        "    return 5 * x**4 + 3 * x**2 + 10\n",
        "\n",
        "# Derivative of f(x)\n",
        "def f_prime(x):\n",
        "    return 20 * x**3 + 6 * x\n",
        "\n",
        "# Gradient Descent Algorithm\n",
        "def gradient_descent(alpha, max_iterations, tolerance):\n",
        "    x = 0.0  # Initial guess for x\n",
        "    for i in range(max_iterations):\n",
        "        grad = f_prime(x)  # Compute the derivative at x\n",
        "        new_x = x - alpha * grad  # Update x\n",
        "\n",
        "        # Check for convergence\n",
        "        if abs(new_x - x) < tolerance:\n",
        "            break\n",
        "\n",
        "        x = new_x  # Update x for the next iteration\n",
        "\n",
        "    return x, f(x), i+1\n",
        "\n",
        "# Parameters for Gradient Descent\n",
        "learning_rate = 0.01  # Step size\n",
        "max_iter = 10000      # Maximum number of iterations\n",
        "tolerance = 1e-6      # Convergence criterion\n",
        "\n",
        "# Run Gradient Descent\n",
        "x_min, f_min, iterations = gradient_descent(learning_rate, max_iter, tolerance)\n",
        "\n",
        "# Output Results\n",
        "print(f\"Minimum value of f(x) is approximately at x = {x_min}\")\n",
        "print(f\"Minimum value of f(x) is approximately {f_min}\")\n",
        "print(f\"Number of iterations: {iterations}\")\n"
      ]
    },
    {
      "cell_type": "code",
      "source": [
        "from google.colab import drive\n",
        "drive.mount('/content/drive')"
      ],
      "metadata": {
        "id": "dSD_SB-pPZCl"
      },
      "execution_count": null,
      "outputs": []
    },
    {
      "cell_type": "code",
      "source": [
        "# Function g(x, y)\n",
        "def g(x, y):\n",
        "    return 3 * x**2 + 5 * (2.71828**(-y)) + 10\n",
        "\n",
        "# Partial derivatives of g(x, y)\n",
        "def g_prime_x(x, y):\n",
        "    return 6 * x\n",
        "\n",
        "def g_prime_y(x, y):\n",
        "    return -5 * (2.71828**(-y))\n",
        "\n",
        "# Gradient Descent Algorithm for two variables\n",
        "def gradient_descent_2d(alpha, max_iterations, tolerance):\n",
        "    x, y = 0.0, 0.0  # Initial guesses for x and y\n",
        "    for i in range(max_iterations):\n",
        "        grad_x = g_prime_x(x, y)  # Compute partial derivative with respect to x\n",
        "        grad_y = g_prime_y(x, y)  # Compute partial derivative with respect to y\n",
        "\n",
        "        new_x = x - alpha * grad_x  # Update x\n",
        "        new_y = y - alpha * grad_y  # Update y\n",
        "\n",
        "        # Check for convergence\n",
        "        if abs(new_x - x) < tolerance and abs(new_y - y) < tolerance:\n",
        "            break\n",
        "\n",
        "        x, y = new_x, new_y  # Update x and y for the next iteration\n",
        "\n",
        "    return x, y, g(x, y), i+1\n",
        "\n",
        "# Parameters for Gradient Descent\n",
        "learning_rate = 0.01  # Step size\n",
        "max_iter = 10000      # Maximum number of iterations\n",
        "tolerance = 1e-6      # Convergence criterion\n",
        "\n",
        "# Run Gradient Descent\n",
        "x_min, y_min, g_min, iterations = gradient_descent_2d(learning_rate, max_iter, tolerance)\n",
        "\n",
        "# Output Results\n",
        "print(f\"Minimum value of g(x, y) is approximately at x = {x_min}, y = {y_min}\")\n",
        "print(f\"Minimum value of g(x, y) is approximately {g_min}\")\n",
        "print(f\"Number of iterations: {iterations}\")\n"
      ],
      "metadata": {
        "colab": {
          "base_uri": "https://localhost:8080/"
        },
        "id": "CTMHi5TTEP7B",
        "outputId": "e1fa974c-f602-4c73-efea-c7aa876bf219"
      },
      "execution_count": null,
      "outputs": [
        {
          "output_type": "stream",
          "name": "stdout",
          "text": [
            "Minimum value of g(x, y) is approximately at x = 0.0, y = 6.216920634657805\n",
            "Minimum value of g(x, y) is approximately 10.009976943077941\n",
            "Number of iterations: 10000\n"
          ]
        }
      ]
    },
    {
      "cell_type": "code",
      "source": [
        "# Sigmoid function z(x)\n",
        "def z(x):\n",
        "    return 1 / (1 + 2.71828**(-x))\n",
        "\n",
        "# Derivative of z(x)\n",
        "def z_prime(x):\n",
        "    sigmoid = z(x)\n",
        "    return sigmoid * (1 - sigmoid)\n",
        "\n",
        "# Gradient Descent Algorithm for z(x)\n",
        "def gradient_descent(alpha, max_iterations, tolerance):\n",
        "    x = 0.0  # Initial guess for x\n",
        "    for i in range(max_iterations):\n",
        "        grad = z_prime(x)  # Compute the derivative at x\n",
        "        new_x = x - alpha * grad  # Update x\n",
        "\n",
        "        # Check for convergence\n",
        "        if abs(new_x - x) < tolerance:\n",
        "            break\n",
        "\n",
        "        x = new_x  # Update x for the next iteration\n",
        "\n",
        "    return x, z(x), i+1\n",
        "\n",
        "# Parameters for Gradient Descent\n",
        "learning_rate = 0.01  # Step size\n",
        "max_iter = 10000      # Maximum number of iterations\n",
        "tolerance = 1e-6      # Convergence criterion\n",
        "\n",
        "# Run Gradient Descent\n",
        "x_min, z_min, iterations = gradient_descent(learning_rate, max_iter, tolerance)\n",
        "\n",
        "# Output Results\n",
        "print(f\"Minimum value of z(x) is approximately at x = {x_min}\")\n",
        "print(f\"Minimum value of z(x) is approximately {z_min}\")\n",
        "print(f\"Number of iterations: {iterations}\")\n"
      ],
      "metadata": {
        "colab": {
          "base_uri": "https://localhost:8080/"
        },
        "id": "MULUN64qFIbt",
        "outputId": "cb56c7a6-c8f4-4b66-cd4c-831a4376dda3"
      },
      "execution_count": null,
      "outputs": [
        {
          "output_type": "stream",
          "name": "stdout",
          "text": [
            "Minimum value of z(x) is approximately at x = -4.510915611762466\n",
            "Minimum value of z(x) is approximately 0.010868994644076176\n",
            "Number of iterations: 10000\n"
          ]
        }
      ]
    },
    {
      "cell_type": "code",
      "source": [
        "# Initialize parameters\n",
        "M = 0.0  # Starting value for M\n",
        "C = 0.0  # Starting value for C\n",
        "learning_rate = 0.01  # Step size for gradient descent\n",
        "iterations = 1000  # Number of iterations\n",
        "input_value = 2  # Given input value\n",
        "expected_output = 0.5  # Target output\n",
        "\n",
        "# Gradient Descent\n",
        "for i in range(iterations):\n",
        "    # Calculate the predicted output\n",
        "    predicted_output = M * input_value + C\n",
        "\n",
        "    # Compute the square error\n",
        "    SE = (expected_output - predicted_output) ** 2\n",
        "\n",
        "    # Calculate gradients\n",
        "    dM = -2 * input_value * (expected_output - predicted_output)  # Partial derivative w.r.t M\n",
        "    dC = -2 * (expected_output - predicted_output)               # Partial derivative w.r.t C\n",
        "\n",
        "    # Update parameters\n",
        "    M -= learning_rate * dM\n",
        "    C -= learning_rate * dC\n",
        "\n",
        "    # Print the progress\n",
        "    if i % 100 == 0:\n",
        "        print(f\"Iteration {i}: SE = {SE:.6f}, M = {M:.4f}, C = {C:.4f}\")\n",
        "\n",
        "# Final optimized values\n",
        "print(f\"Optimized M = {M:.4f}, Optimized C = {C:.4f}\")\n"
      ],
      "metadata": {
        "colab": {
          "base_uri": "https://localhost:8080/"
        },
        "id": "ii1HBrHoFOo5",
        "outputId": "a23fae80-987e-46e9-cd04-e4bea3678349"
      },
      "execution_count": null,
      "outputs": [
        {
          "output_type": "stream",
          "name": "stdout",
          "text": [
            "Iteration 0: SE = 0.250000, M = 0.0200, C = 0.0100\n",
            "Iteration 100: SE = 0.000000, M = 0.2000, C = 0.1000\n",
            "Iteration 200: SE = 0.000000, M = 0.2000, C = 0.1000\n",
            "Iteration 300: SE = 0.000000, M = 0.2000, C = 0.1000\n",
            "Iteration 400: SE = 0.000000, M = 0.2000, C = 0.1000\n",
            "Iteration 500: SE = 0.000000, M = 0.2000, C = 0.1000\n",
            "Iteration 600: SE = 0.000000, M = 0.2000, C = 0.1000\n",
            "Iteration 700: SE = 0.000000, M = 0.2000, C = 0.1000\n",
            "Iteration 800: SE = 0.000000, M = 0.2000, C = 0.1000\n",
            "Iteration 900: SE = 0.000000, M = 0.2000, C = 0.1000\n",
            "Optimized M = 0.2000, Optimized C = 0.1000\n"
          ]
        }
      ]
    }
  ]
}