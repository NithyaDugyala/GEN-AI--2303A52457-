{
  "nbformat": 4,
  "nbformat_minor": 0,
  "metadata": {
    "colab": {
      "provenance": [],
      "authorship_tag": "ABX9TyO1dXBfrisZ0fTaiSace2Kh",
      "include_colab_link": true
    },
    "kernelspec": {
      "name": "python3",
      "display_name": "Python 3"
    },
    "language_info": {
      "name": "python"
    }
  },
  "cells": [
    {
      "cell_type": "markdown",
      "metadata": {
        "id": "view-in-github",
        "colab_type": "text"
      },
      "source": [
        "<a href=\"https://colab.research.google.com/github/NithyaDugyala/GEN-AI--2303A52457-/blob/main/GEN_AI_LAB1.ipynb\" target=\"_parent\"><img src=\"https://colab.research.google.com/assets/colab-badge.svg\" alt=\"Open In Colab\"/></a>"
      ]
    },
    {
      "cell_type": "code",
      "execution_count": null,
      "metadata": {
        "id": "zhXbdaSiPoG7"
      },
      "outputs": [],
      "source": [
        "import math"
      ]
    },
    {
      "cell_type": "code",
      "source": [
        "Y_actual = [20, 30, 40, 50, 60]\n",
        "y_Pred = [20.5, 30.3, 40.2, 50.6, 60.7]\n",
        "mean_actual = 0\n",
        "for i in range(len(Y_actual)):\n",
        "  mean_actual += Y_actual[i]\n",
        "\n",
        "mean_actual = mean_actual/len(Y_actual)\n",
        "print(\"Mean of actual values:\", mean_actual)"
      ],
      "metadata": {
        "id": "WWrlAX3GP0yw"
      },
      "execution_count": null,
      "outputs": []
    },
    {
      "cell_type": "code",
      "source": [
        "squared_diff =[]\n",
        "for i in range(len(Y_actual)):\n",
        "  squared_diff.append((Y_actual[i] - y_Pred[i]) ** 2)\n",
        "mse = sum(squared_diff) / len(Y_actual)\n",
        "rmse = math.sqrt(mse)\n",
        "\n",
        "print(\"RMSE:\", rmse)\n",
        "print(\"mse :\",mse)\n"
      ],
      "metadata": {
        "id": "ZUKaiwL9P-uH"
      },
      "execution_count": null,
      "outputs": []
    },
    {
      "cell_type": "code",
      "source": [
        "mae =[]\n",
        "for i in range(len(Y_actual)):\n",
        "  mae.append((Y_actual[i] -y_Pred[i]))\n",
        "MAE = sum(mae) / len(Y_actual)\n",
        "print(\"MAE:\", abs(MAE))\n"
      ],
      "metadata": {
        "id": "u3OnLmIxP_9Q"
      },
      "execution_count": null,
      "outputs": []
    },
    {
      "cell_type": "code",
      "source": [
        "# Function to calculate evaluation metrics from scratch\n",
        "def calculate_metrics(y_actual, y_pred):\n",
        "    tp = tn = fp = fn = 0  # True Positives, True Negatives, False Positives, False Negatives\n",
        "\n",
        "    for actual, pred in zip(y_actual, y_pred):\n",
        "        if actual == pred:\n",
        "            if actual == 1:\n",
        "                tp += 1\n",
        "            elif actual == 0:\n",
        "                tn += 1\n",
        "        else:\n",
        "            if pred == 1:\n",
        "                fp += 1\n",
        "            else:\n",
        "                fn += 1\n",
        "\n",
        "    # Accuracy\n",
        "    accuracy = (tp + tn) / len(y_actual)\n",
        "    # Precision\n",
        "    precision = tp / (tp + fp) if (tp + fp) > 0 else 0\n",
        "    # Recall\n",
        "    recall = tp / (tp + fn) if (tp + fn) > 0 else 0\n",
        "    # F1 Score\n",
        "    f1_score = (2 * precision * recall) / (precision + recall) if (precision + recall) > 0 else 0\n",
        "\n",
        "    return {\n",
        "        \"accuracy\": accuracy,\n",
        "        \"precision\": precision,\n",
        "        \"recall\": recall,\n",
        "        \"f1_score\": f1_score\n",
        "    }\n",
        "\n",
        "# Actual values and predicted values\n",
        "y_actual = [0, 0, 1, 1, 2, 0, 0, 0, 1, 0, 2, 0, 0, 1, 1, 2, 2, 1, 0, 2, 1, 0, 2, 2]\n",
        "y_pred = [0, 0, 1, 0, 2, 0, 0, 1, 1, 2, 2, 2, 0, 2, 1, 2, 2, 2, 0, 2, 1, 2, 2, 2]\n",
        "\n",
        "# Calculate metrics\n",
        "metrics = calculate_metrics(y_actual, y_pred)\n",
        "\n",
        "# Output results\n",
        "print(\"Evaluation Metrics:\")\n",
        "for metric, value in metrics.items():\n",
        "    print(f\"{metric.capitalize()}: {value:.2f}\")\n",
        "\n",
        "# Comparison with library results\n",
        "from sklearn.metrics import accuracy_score, precision_score, recall_score, f1_score\n",
        "\n",
        "accuracy = accuracy_score(y_actual, y_pred)\n",
        "precision = precision_score(y_actual, y_pred, average=\"weighted\", zero_division=0)\n",
        "recall = recall_score(y_actual, y_pred, average=\"weighted\", zero_division=0)\n",
        "f1 = f1_score(y_actual, y_pred, average=\"weighted\", zero_division=0)\n",
        "\n",
        "print(\"\\nComparison with library results:\")\n",
        "print(f\"Accuracy: {accuracy:.2f}\")\n",
        "print(f\"Precision: {precision:.2f}\")\n",
        "print(f\"Recall: {recall:.2f}\")\n",
        "print(f\"F1 Score: {f1:.2f}\")\n"
      ],
      "metadata": {
        "colab": {
          "base_uri": "https://localhost:8080/"
        },
        "id": "VSTPM2DgRI5G",
        "outputId": "368d9fef-1726-4e49-9125-2628ff3f7bc5"
      },
      "execution_count": 2,
      "outputs": [
        {
          "output_type": "stream",
          "name": "stdout",
          "text": [
            "Evaluation Metrics:\n",
            "Accuracy: 0.42\n",
            "Precision: 0.80\n",
            "Recall: 0.40\n",
            "F1_score: 0.53\n",
            "\n",
            "Comparison with library results:\n",
            "Accuracy: 0.71\n",
            "Precision: 0.76\n",
            "Recall: 0.71\n",
            "F1 Score: 0.70\n"
          ]
        }
      ]
    }
  ]
}